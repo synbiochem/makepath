{
 "cells": [
  {
   "cell_type": "markdown",
   "metadata": {},
   "source": [
    "Basic routines in order to retrieve information from multiple chemical databases."
   ]
  },
  {
   "cell_type": "code",
   "execution_count": 23,
   "metadata": {},
   "outputs": [
    {
     "data": {
      "text/plain": [
       "('styrene',\n",
       " 'InChI=1S/C8H8/c1-2-8-6-4-3-5-7-8/h2-7H,1H2',\n",
       " 'C=Cc1ccccc1',\n",
       " '27452\\n')"
      ]
     },
     "execution_count": 23,
     "metadata": {},
     "output_type": "execute_result"
    }
   ],
   "source": [
    "import libchebipy\n",
    "import pubchempy\n",
    "from Bio.KEGG import REST as krest\n",
    "from rdkit import Chem\n",
    "\n",
    "def chinfo(cmpd):\n",
    "    chebi = libchebipy.ChebiEntity(cmpd)\n",
    "    return( chebi.get_name(), chebi.get_inchi(), chebi.get_smiles() )\n",
    "def pbinfo(cmpd):\n",
    "    cpd = pubchempy.Compound.from_cid( cmpd )\n",
    "    return( cpd.synonyms[0], cpd.inchi, cpd.canonical_smiles )\n",
    "def keinfo(cmpd):\n",
    "    info = krest.kegg_get( cmpd )\n",
    "    chebi = None\n",
    "    for line in info:\n",
    "        if line.startswith('NAME'):\n",
    "            name = line.rstrip()[12:].rstrip(';')\n",
    "        if line[12:(12+len('ChEBI'))] == 'ChEBI':\n",
    "            chebi = line[12:].split(' ')[1]\n",
    "            return chinfo( chebi ) + (chebi,)\n",
    "    info = krest.kegg_get( cmpd, 'mol' )\n",
    "    mol = Chem.MolFromMolBlock( info.read() )\n",
    "    return( name, Chem.MolToInchi(mol), Chem.MolToSmiles(mol), chebi )\n",
    "\n",
    "cmpd = 'CHEBI:27452'\n",
    "chinfo(cmpd)\n",
    "cmpd = '7501'\n",
    "pbinfo(cmpd)\n",
    "cmpd = 'C07083'\n",
    "keinfo(cmpd)\n"
   ]
  },
  {
   "cell_type": "code",
   "execution_count": null,
   "metadata": {},
   "outputs": [],
   "source": [
    "import pandas as pd\n",
    "import re, os, glob\n",
    "\n",
    "for f in glob.glob('*_reactions.xlsx'):\n",
    "    dfd = pd.read_excel(f, sheet_name=None)\n",
    "    # Create a Pandas Excel writer using XlsxWriter as the engine.\n",
    "    fn = os.path.join('annotated', f)\n",
    "    writer = pd.ExcelWriter(fn, engine='xlsxwriter')\n",
    "    for s in dfd:\n",
    "        df = dfd[s]\n",
    "        df['dbName'] = 'na'\n",
    "        for i in df.index:\n",
    "            try:\n",
    "                info = None\n",
    "                if re.search('chebi', df.loc[i,'ID']):\n",
    "                    m = df.loc[i,'ID'].split(':')\n",
    "                    info = chinfo(m[-1]) \n",
    "                elif re.search('kegg', df.loc[i,'ID']):\n",
    "                    m = df.loc[i,'ID'].split(':')\n",
    "                    info = keinfo(m[-1])\n",
    "                    chebi = info[3]\n",
    "                    if info[3] is not None:\n",
    "                        df.loc[i,'ID'] = 'http://identifiers.org/chebi/CHEBI:'+info[3]\n",
    "                elif re.search('pubchem', df.loc[i,'ID']):\n",
    "                    m = df.loc[i,'ID'].split('/')\n",
    "                    info = pbinfo(m[-1])\n",
    "                if info is not None:\n",
    "                    df.loc[i,'dbName'] = info[0]\n",
    "                    df.loc[i,'InChI'] = info[1]\n",
    "                    df.loc[i,'SMILES'] = info[2]\n",
    "            except:\n",
    "                if df.loc[i,'Role'] != 'Reaction':\n",
    "                    print(df.iloc[i,:])\n",
    "                continue\n",
    "        df.to_excel(writer, sheet_name=s, index=False)\n",
    "    writer.save()"
   ]
  },
  {
   "cell_type": "code",
   "execution_count": null,
   "metadata": {},
   "outputs": [],
   "source": []
  }
 ],
 "metadata": {
  "kernelspec": {
   "display_name": "Python 3",
   "language": "python",
   "name": "python3"
  },
  "language_info": {
   "codemirror_mode": {
    "name": "ipython",
    "version": 3
   },
   "file_extension": ".py",
   "mimetype": "text/x-python",
   "name": "python",
   "nbconvert_exporter": "python",
   "pygments_lexer": "ipython3",
   "version": "3.5.6"
  }
 },
 "nbformat": 4,
 "nbformat_minor": 2
}
